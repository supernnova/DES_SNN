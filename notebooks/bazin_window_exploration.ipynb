{
 "cells": [
  {
   "cell_type": "code",
   "execution_count": 1,
   "metadata": {},
   "outputs": [],
   "source": [
    "import sys\n",
    "import glob,os\n",
    "import numpy as np\n",
    "import pandas as pd\n",
    "from matplotlib import pyplot as plt\n",
    "sys.path.append(\"../\")\n",
    "import utils.data_utils as du\n",
    "import utils.visualization_utils as vu"
   ]
  },
  {
   "cell_type": "code",
   "execution_count": 2,
   "metadata": {},
   "outputs": [],
   "source": [
    "# Init paths\n",
    "path_raw = os.environ.get(\"DES_DATA\")\n",
    "path_dump = './dump/data_skimming/'\n",
    "path_bazin = '../dumps/bazin_SNNone/'\n",
    "debug=False"
   ]
  },
  {
   "cell_type": "code",
   "execution_count": 3,
   "metadata": {},
   "outputs": [
    {
     "name": "stdout",
     "output_type": "stream",
     "text": [
      "\u001b[32m[Loading preprocessed data ../dumps/preprocessed/real/ ] \u001b[0m\n",
      "\u001b[32m[Loading preprocessed data ../dumps/preprocessed/fake/ ] \u001b[0m\n"
     ]
    }
   ],
   "source": [
    "# load complete data\n",
    "# do run: process_Data_for_notebooks.py first! the notebook crashes with such large data to process\n",
    "df_real = du.load_all_data('dummy','../dumps/preprocessed/real/', redo_photometry =False)\n",
    "df_fake = du.load_all_data('dummy','../dumps/preprocessed/fake/', redo_photometry =False)"
   ]
  },
  {
   "cell_type": "code",
   "execution_count": null,
   "metadata": {},
   "outputs": [],
   "source": [
    "df_group_fake = df_fake.groupby(\"SNID\").mean()"
   ]
  },
  {
   "cell_type": "code",
   "execution_count": null,
   "metadata": {},
   "outputs": [],
   "source": [
    "len(df_group_fake)"
   ]
  },
  {
   "cell_type": "code",
   "execution_count": null,
   "metadata": {},
   "outputs": [],
   "source": [
    "#sanity check for bazin\n",
    "# only for fakes\n",
    "df = df_group_fake\n",
    "fig = plt.figure()\n",
    "df[\"PEAKMJDNORM\"] = df['PRIVATE(DES_fake_peakmjd)']\n",
    "plt.hist(df[\"PEAKMJDNORM\"]-df[\"PKMJDINI\"],histtype=\"step\",label='bazin')\n",
    "df = df[df[\"PEAKMJDNORM\"]-df[\"PRIVATE(DES_mjd_trigger)\"]<1500]\n",
    "plt.hist(df[\"PEAKMJDNORM\"]-df[\"PRIVATE(DES_mjd_trigger)\"],histtype=\"step\",label='trigger')\n",
    "plt.yscale(\"log\")\n",
    "plt.legend()"
   ]
  },
  {
   "cell_type": "code",
   "execution_count": null,
   "metadata": {},
   "outputs": [],
   "source": [
    "# see why some SNe are missclassified\n",
    "# plot some lcs"
   ]
  },
  {
   "cell_type": "code",
   "execution_count": null,
   "metadata": {},
   "outputs": [],
   "source": [
    "# load skimmed data\n",
    "# df_real_bazin = du.load_all_data(f'{path_bazin}/real/','../dumps/bazin_SNNone/real/pickle/', redo_photometry =True)\n",
    "df_fake_bazin = du.load_all_data(f'{path_bazin}/fake/','../dumps/bazin_SNNone/fake/pickle/', redo_photometry = True)"
   ]
  },
  {
   "cell_type": "code",
   "execution_count": null,
   "metadata": {},
   "outputs": [],
   "source": [
    "# load SNN predictions\n",
    "name_model = \"vanilla_S_0_CLF_2_R_None_photometry_DF_1.0_N_global_lstm_32x2_0.05_128_True_mean_C\"\n",
    "file_pred = \"PRED_vanilla_S_0_CLF_2_R_None_photometry_DF_1.0_N_global_lstm_32x2_0.05_128_True_mean_C.pickle\"\n",
    "preds = pd.read_pickle(f\"bazin_SNNone\")"
   ]
  },
  {
   "cell_type": "code",
   "execution_count": null,
   "metadata": {},
   "outputs": [],
   "source": [
    "# plot P vs. E, P vs. z, E vs. z"
   ]
  },
  {
   "cell_type": "code",
   "execution_count": null,
   "metadata": {},
   "outputs": [],
   "source": []
  }
 ],
 "metadata": {
  "kernelspec": {
   "display_name": "Python 3",
   "language": "python",
   "name": "python3"
  },
  "language_info": {
   "codemirror_mode": {
    "name": "ipython",
    "version": 3
   },
   "file_extension": ".py",
   "mimetype": "text/x-python",
   "name": "python",
   "nbconvert_exporter": "python",
   "pygments_lexer": "ipython3",
   "version": "3.6.8"
  }
 },
 "nbformat": 4,
 "nbformat_minor": 2
}
