{
 "cells": [
  {
   "cell_type": "code",
   "execution_count": 5,
   "metadata": {},
   "outputs": [],
   "source": [
    "import sys\n",
    "import glob,os\n",
    "import numpy as np\n",
    "import pandas as pd\n",
    "from pathlib import Path\n",
    "from matplotlib import pyplot as plt\n",
    "sys.path.append(\"../\")\n",
    "import utils.data_utils as du\n",
    "import utils.visualization_utils as vu"
   ]
  },
  {
   "cell_type": "code",
   "execution_count": 7,
   "metadata": {},
   "outputs": [],
   "source": [
    "# Init paths\n",
    "raw_dir = os.environ.get(\"DES_DATA\")\n",
    "dump_dir = './dump/data_skimming/'\n",
    "debug=False"
   ]
  },
  {
   "cell_type": "code",
   "execution_count": 11,
   "metadata": {},
   "outputs": [
    {
     "name": "stderr",
     "output_type": "stream",
     "text": [
      "/Users/anaismoller/miniconda3/lib/python3.6/site-packages/ipykernel_launcher.py:20: FutureWarning: Sorting because non-concatenation axis is not aligned. A future version\n",
      "of pandas will change to not sort by default.\n",
      "\n",
      "To accept the future behavior, pass 'sort=False'.\n",
      "\n",
      "To retain the current behavior and silence the warning, pass 'sort=True'.\n",
      "\n"
     ]
    }
   ],
   "source": [
    "# load complete data\n",
    "# do run: process_Data_for_notebooks.py first! the notebook crashes with such large data to process\n",
    "df= {}\n",
    "for dtype in [\"fake\", \"real\"]:\n",
    "    df_head_tmp = []\n",
    "    bazin_file = f\"{Path(raw_dir)}/DESALL_forcePhoto_{dtype}_snana_fits/DESALL_{dtype}_Bazin_fit.SNANA.TEXT\"\n",
    "    if Path(bazin_file).exists():\n",
    "        df_bazin = du.load_bazin_fits(bazin_file)\n",
    "        \n",
    "    list_files = glob.glob(os.path.join(f\"{raw_dir}/DESALL_forcePhoto_{dtype}_snana_fits/\", \"*PHOT.FITS\"))\n",
    "    for fname in list_files:\n",
    "        dump_prefix = Path(fname).name.split(\"_\")[0]\n",
    "\n",
    "        df_header, df_phot = du.read_fits(fname)\n",
    "        df_header = pd.merge(df_header, df_bazin, on='SNID')\n",
    "        df_header = df_header[[\n",
    "            k for k in df_header.keys() if 'Unnamed' not in k]]\n",
    "        \n",
    "        df_head_tmp.append(df_header)\n",
    "    df[dtype] = pd.concat(df_head_tmp)"
   ]
  },
  {
   "cell_type": "code",
   "execution_count": 20,
   "metadata": {},
   "outputs": [
    {
     "data": {
      "text/plain": [
       "<matplotlib.legend.Legend at 0x1a45fa31d0>"
      ]
     },
     "execution_count": 20,
     "metadata": {},
     "output_type": "execute_result"
    },
    {
     "data": {
      "image/png": "[encoded data removed]",
      "text/plain": [
       "<Figure size 432x288 with 1 Axes>"
      ]
     },
     "metadata": {},
     "output_type": "display_data"
    }
   ],
   "source": [
    "#sanity check for bazin\n",
    "# only for fakes\n",
    "fig = plt.figure()\n",
    "plt.hist(df['fake']['PRIVATE(DES_fake_peakmjd)']-df['fake'][\"PKMJDINI\"],histtype=\"step\",label='bazin',bins=10)\n",
    "plt.hist(df['fake']['PRIVATE(DES_fake_peakmjd)']-df['fake'][\"PEAKMJD\"],histtype=\"step\",label='PSNID')\n",
    "plt.hist(df['fake']['PRIVATE(DES_fake_peakmjd)']-df['fake'][\"PRIVATE(DES_mjd_trigger)\"],histtype=\"step\",label='trigger',bins=100)\n",
    "plt.xlabel('peak-')\n",
    "plt.yscale(\"log\")\n",
    "plt.legend()"
   ]
  },
  {
   "cell_type": "code",
   "execution_count": 38,
   "metadata": {},
   "outputs": [
    {
     "data": {
      "text/plain": [
       "<matplotlib.legend.Legend at 0x1a168547f0>"
      ]
     },
     "execution_count": 38,
     "metadata": {},
     "output_type": "execute_result"
    },
    {
     "data": {
      "image/png": "[encoded data removed]",
      "text/plain": [
       "<Figure size 432x288 with 1 Axes>"
      ]
     },
     "metadata": {},
     "output_type": "display_data"
    }
   ],
   "source": [
    "fig = plt.figure()\n",
    "plt.hist(df['fake']['PRIVATE(DES_fake_peakmjd)']-df['fake'][\"PEAKMJD\"],histtype=\"step\",label='PSNID',bins=100)\n",
    "plt.hist(df['fake']['PRIVATE(DES_fake_peakmjd)']-df['fake'][\"PRIVATE(DES_mjd_trigger)\"],histtype=\"step\",label='trigger',bins=10000)\n",
    "plt.hist(df['fake']['PRIVATE(DES_fake_peakmjd)']-df['fake'][\"PKMJDINI\"],histtype=\"step\",label='bazin',bins=1000)\n",
    "plt.xlabel('delta(peak-estimated peak)')\n",
    "plt.yscale(\"log\")\n",
    "plt.xlim(-100,100)\n",
    "plt.legend()"
   ]
  }
 ],
 "metadata": {
  "kernelspec": {
   "display_name": "Python 3",
   "language": "python",
   "name": "python3"
  },
  "language_info": {
   "codemirror_mode": {
    "name": "ipython",
    "version": 3
   },
   "file_extension": ".py",
   "mimetype": "text/x-python",
   "name": "python",
   "nbconvert_exporter": "python",
   "pygments_lexer": "ipython3",
   "version": "3.6.8"
  }
 },
 "nbformat": 4,
 "nbformat_minor": 2
}
