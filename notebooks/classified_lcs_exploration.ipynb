{
 "cells": [
  {
   "cell_type": "markdown",
   "metadata": {},
   "source": [
    "# Exploring some of the classified SN light-curves"
   ]
  },
  {
   "cell_type": "code",
   "execution_count": 1,
   "metadata": {},
   "outputs": [
    {
     "name": "stderr",
     "output_type": "stream",
     "text": [
      "/Users/anaismoller/miniconda3/lib/python3.6/site-packages/h5py/__init__.py:36: FutureWarning: Conversion of the second argument of issubdtype from `float` to `np.floating` is deprecated. In future, it will be treated as `np.float64 == np.dtype(float).type`.\n",
      "  from ._conv import register_converters as _register_converters\n"
     ]
    }
   ],
   "source": [
    "import sys\n",
    "import glob,os\n",
    "import numpy as np\n",
    "import pandas as pd\n",
    "from pathlib import Path\n",
    "from matplotlib import pyplot as plt\n",
    "sys.path.append(\"../\")\n",
    "import utils.data_utils as du\n",
    "import utils.visualization_utils as vu"
   ]
  },
  {
   "cell_type": "code",
   "execution_count": 2,
   "metadata": {},
   "outputs": [],
   "source": [
    "# Init paths\n",
    "raw_dir = os.environ.get(\"DES_DATA\")\n",
    "debug=False"
   ]
  },
  {
   "cell_type": "markdown",
   "metadata": {},
   "source": [
    "## Load predictions\n",
    "e.g. vanilla RNN and inspect photometrically classified sample and those events that are lost"
   ]
  },
  {
   "cell_type": "code",
   "execution_count": 3,
   "metadata": {},
   "outputs": [],
   "source": [
    "# model\n",
    "model_name = \"vanilla_S_0_CLF_2_R_None_photometry_DF_1.0_N_global_lstm_32x2_0.05_128_True_mean_C\"\n",
    "# load predictions \n",
    "df_pred = {}\n",
    "for dtype in [\"fake\", \"real\"]:   \n",
    "    pred_dir = f'../dumps/{dtype}/clump/models/'\n",
    "    pred_file = f'{pred_dir}/{model_name}/PRED_{model_name}.pickle'\n",
    "    df_pred[dtype] = pd.read_pickle(pred_file)"
   ]
  },
  {
   "cell_type": "markdown",
   "metadata": {},
   "source": [
    "### Selecting SNe for inspection\n",
    "e.g. lets find those spectroscopic Ias that are not photometrically classified as Ias. "
   ]
  },
  {
   "cell_type": "code",
   "execution_count": 44,
   "metadata": {},
   "outputs": [],
   "source": [
    "# We set probability of classification 0.5 as threshold\n",
    "# remember class0=prob of being Ia\n",
    "for dtype in [\"fake\", \"real\"]:   \n",
    "    df_pred[dtype][\"predicted_target\"] = (\n",
    "        df_pred[dtype][[k for k in df_pred[dtype].keys() if \"all_class\" in k]]\n",
    "        .idxmax(axis=1)\n",
    "        .str.strip(\"all_class\")\n",
    "        .astype(int))\n",
    "    clump_file = f\"{Path(raw_dir)}/DESALL_forcePhoto_{dtype}_snana_fits/DESALL_{dtype}_clump.SNANA.TEXT\"\n",
    "    if Path(clump_file).exists():\n",
    "        df_clump = du.load_fits(clump_file)\n",
    "        df_clump['PKMJD_clump'] = df_clump['PKMJDINI']\n",
    "        df_clump = df_clump[['SNID','PKMJD_clump']]\n",
    "        df_pred[dtype] = df_pred[dtype].merge(df_clump, on =\"SNID\")\n",
    "    bazin_file = f\"{Path(raw_dir)}/DESALL_forcePhoto_{dtype}_snana_fits/DESALL_{dtype}_Bazin_fit.SNANA.TEXT\"\n",
    "    if Path(bazin_file).exists():\n",
    "        df_bazin = du.load_fits(bazin_file)\n",
    "        df_bazin = df_bazin[['SNID']+[k for k in df_bazin.keys() if k not in df_pred[dtype].keys()]]\n",
    "        df_pred[dtype] = df_pred[dtype].merge(df_bazin, on =\"SNID\")"
   ]
  },
  {
   "cell_type": "code",
   "execution_count": 45,
   "metadata": {},
   "outputs": [],
   "source": [
    "def get_photo_sample_w_spec_tags(df_pred, photo_SNIDs=None):\n",
    "\n",
    "    # define photo samples\n",
    "    photo_Ia = {}\n",
    "    photo_nonIa = {}\n",
    "\n",
    "    photo_tmp = df_pred[df_pred['predicted_target'] == 0].copy()\n",
    "\n",
    "    if photo_SNIDs:\n",
    "        photo_Ia['all'] = photo_tmp[photo_tmp['SNID'].isin(photo_SNIDs)]\n",
    "    else:\n",
    "        photo_Ia['all'] = photo_tmp\n",
    "        photo_SNIDs = photo_tmp.SNID.values\n",
    "        \n",
    "    photo_nonIa['all'] = df_pred[~df_pred['SNID'].isin(photo_SNIDs)].copy()\n",
    "\n",
    "    photo_Ia['spec_Ia'] = photo_Ia['all'][(\n",
    "        photo_Ia['all']['TYPE'] == 1) | (photo_Ia['all']['TYPE'] == 101)]\n",
    "    \n",
    "    photo_Ia['spec_nonIa'] = photo_Ia['all'][(photo_Ia['all']['TYPE'] != 0) & (\n",
    "        photo_Ia['all']['TYPE'] != 1) & (photo_Ia['all']['TYPE'] != 101)]\n",
    "    photo_Ia['all_no_spec_nonIa'] = photo_Ia['all'][(photo_Ia['all']['TYPE'] == 0) | (\n",
    "        photo_Ia['all']['TYPE'] == 1) | (photo_Ia['all']['TYPE'] == 101)]\n",
    "\n",
    "    photo_nonIa['spec_Ia'] = photo_nonIa['all'][(photo_nonIa['all']['TYPE'] == 1) | (photo_nonIa['all']['TYPE'] == 101)]\n",
    "    photo_nonIa['spec_nonIa'] = photo_nonIa['all'][(photo_nonIa['all']['TYPE'] != 0) & (\n",
    "        photo_nonIa['all']['TYPE'] != 1) & (photo_nonIa['all']['TYPE'] != 101)]\n",
    "\n",
    "    return photo_Ia, photo_nonIa"
   ]
  },
  {
   "cell_type": "code",
   "execution_count": 46,
   "metadata": {},
   "outputs": [],
   "source": [
    "photo_Ia, photo_nonIa = get_photo_sample_w_spec_tags(\n",
    "            df_pred['real'])"
   ]
  },
  {
   "cell_type": "code",
   "execution_count": 26,
   "metadata": {},
   "outputs": [],
   "source": [
    "# now lets see which SNe (IDs) are spec Ias but not classified as Ias\n",
    "ids_lost_spec_Ia = [i for i in photo_nonIa['spec_Ia'].SNID.values]"
   ]
  },
  {
   "cell_type": "code",
   "execution_count": 32,
   "metadata": {},
   "outputs": [
    {
     "data": {
      "image/png": "[encoded data removed]",
      "text/plain": [
       "<Figure size 432x288 with 4 Axes>"
      ]
     },
     "metadata": {},
     "output_type": "display_data"
    }
   ],
   "source": [
    "# General properties\n",
    "list_var = [\"zCMB\",'SNRMAX1', 'SNRMAX2','SNRMAX3']\n",
    "fig = plt.figure()\n",
    "for i,var in enumerate(list_var):\n",
    "    ax=plt.subplot(3,3,i+1)\n",
    "    ax.hist(photo_nonIa['spec_Ia'][var])\n",
    "    ax.set_yscale(\"log\")\n",
    "    ax.set_xlabel(var)\n",
    "fig.tight_layout()\n",
    "fig.subplots_adjust(top=0.88)"
   ]
  },
  {
   "cell_type": "code",
   "execution_count": 47,
   "metadata": {},
   "outputs": [
    {
     "data": {
      "image/png": "[encoded data removed]",
      "text/plain": [
       "<Figure size 432x288 with 8 Axes>"
      ]
     },
     "metadata": {},
     "output_type": "display_data"
    }
   ],
   "source": [
    "# bazin fit properties\n",
    "list_var = ['FIT_TRISE_g', 'FIT_TRISE_r', 'FIT_TRISE_i', 'FIT_TRISE_z',\n",
    "       'FIT_TFALL_g', 'FIT_TFALL_r', 'FIT_TFALL_i', 'FIT_TFALL_z']\n",
    "fig = plt.figure()\n",
    "for i,var in enumerate(list_var):\n",
    "    ax=plt.subplot(3,3,i+1)\n",
    "    ax.hist(photo_nonIa['spec_Ia'][var])\n",
    "    ax.set_yscale(\"log\")\n",
    "    ax.set_xlabel(var)\n",
    "fig.tight_layout()\n",
    "fig.subplots_adjust(top=0.88)"
   ]
  },
  {
   "cell_type": "markdown",
   "metadata": {},
   "source": [
    "# Inspecting using SNN\n",
    "this allows us to look at exactly the photometry that SNN uses instead of yearly stacks"
   ]
  },
  {
   "cell_type": "code",
   "execution_count": 48,
   "metadata": {},
   "outputs": [],
   "source": [
    "model_files = [\n",
    "    f\"../SuperNNova_general/trained_models_mutant/{model_name}/{model_name}.pt\"]\n",
    "skim_dir = f\"./dumps/real/clump/\"\n",
    "out_dir = '../dumps/spec_Ia_classified_as_nonIa_SNN/'"
   ]
  },
  {
   "cell_type": "code",
   "execution_count": 59,
   "metadata": {
    "scrolled": true
   },
   "outputs": [],
   "source": [
    "# for a reason, SuperNNova modules dont work properly with ipython so need to run this separetely\n",
    "# see inspect_photo_samples to see how it is done\n",
    "# vu.plot_early_classification(skim_dir, prefix='test_', df=photo_Ia['all'], model_files=model_files, out_dir=out_dir)"
   ]
  },
  {
   "cell_type": "markdown",
   "metadata": {},
   "source": [
    "## Inspect using photometry from yearly stacks\n",
    "very slow, need to optimize if this is going to be done usually"
   ]
  },
  {
   "cell_type": "code",
   "execution_count": 24,
   "metadata": {},
   "outputs": [],
   "source": [
    "# load fits files\n",
    "df_fits = {}\n",
    "for dtype in [\"fake\", \"real\"]:\n",
    "    # load fits files and merge them in one\n",
    "    bazin_file = f\"{Path(raw_dir)}/DESALL_forcePhoto_{dtype}_snana_fits/DESALL_{dtype}_Bazin_fit.SNANA.TEXT\"\n",
    "    clump_file = f\"{Path(raw_dir)}/DESALL_forcePhoto_{dtype}_snana_fits/DESALL_{dtype}_clump.SNANA.TEXT\"\n",
    "    if Path(bazin_file).exists():\n",
    "        df_bazin = du.load_fits(bazin_file)\n",
    "    if Path(clump_file).exists():\n",
    "        df_clump = du.load_fits(clump_file)\n",
    "    df_clump['PKMJD_clump'] = df_clump['PKMJDINI']\n",
    "    df_fits[dtype] = df_clump[['SNID','PKMJD_clump']]\n",
    "    df_fits[dtype] = df_fits[dtype].merge(df_bazin,on='SNID')\n",
    "    df_fits[dtype] = df_fits[dtype][['SNID', 'PKMJD_clump','TYPE', \n",
    "       'CUTFLAG_SNANA', 'zCMB', 'zCMBERR', 'zHD', 'zHDERR',\n",
    "       'VPEC', 'VPECERR', 'HOST_LOGMASS', 'HOST_LOGMASS_ERR', 'HOST_sSFR',\n",
    "       'HOST_sSFR_ERR', 'PKMJDINI', 'FIT_T0_g', 'FIT_T0_r', 'FIT_T0_i',\n",
    "       'FIT_T0_z', 'FIT_TRISE_g', 'FIT_TRISE_r', 'FIT_TRISE_i', 'FIT_TRISE_z',\n",
    "       'FIT_TFALL_g', 'FIT_TFALL_r', 'FIT_TFALL_i', 'FIT_TFALL_z', 'FIT_A0_g',\n",
    "       'FIT_A0_r', 'FIT_A0_i', 'FIT_A0_z', 'FIT_A1_g', 'FIT_A1_r', 'FIT_A1_i',\n",
    "       'FIT_A1_z', 'FIT_A2_g', 'FIT_A2_r', 'FIT_A2_i', 'FIT_A2_z',\n",
    "       'PKMJD_FIT_g', 'PKMJD_ERR_g', 'PKMJD_FIT_r', 'PKMJD_ERR_r',\n",
    "       'PKMJD_FIT_i', 'PKMJD_ERR_i', 'PKMJD_FIT_z', 'PKMJD_ERR_z',\n",
    "       'FIT_CHI2_g', 'FIT_CHI2_r', 'FIT_CHI2_i', 'FIT_CHI2_z', 'FIT_NDOF_g',\n",
    "       'FIT_NDOF_r', 'FIT_NDOF_i', 'FIT_NDOF_z', 'SNRMAX1', 'SNRMAX2',\n",
    "       'SNRMAX3']]"
   ]
  },
  {
   "cell_type": "code",
   "execution_count": null,
   "metadata": {},
   "outputs": [],
   "source": [
    "# load complete data\n",
    "# BEWARE! this is the complete yearly stack, if you want to look at the SNN light-curves use the SNN module!\n",
    "df = {} # only header\n",
    "df_w_photo = {} # merged with photometry\n",
    "\n",
    "#load photometry and header fits tables\n",
    "# horrible way of doing this! but it is to play with the data\n",
    "\n",
    "for dtype in [\"fake\", \"real\"]:    \n",
    "    list_files = glob.glob(os.path.join(f\"{raw_dir}/DESALL_forcePhoto_{dtype}_snana_fits/\", \"*PHOT.FITS\"))\n",
    "    df_head_tmp = []\n",
    "    df_head_w_phot_tmp = []\n",
    "    \n",
    "    for fname in list_files:\n",
    "        df_header, df_phot = du.read_fits(fname)\n",
    "        df_header = pd.merge(df_header, df_fits[dtype], on='SNID')\n",
    "        df_header = df_header[[\n",
    "            k for k in df_header.keys() if 'Unnamed' not in k]]\n",
    "        df_head_tmp.append(df_header)\n",
    "        df_head_w_phot_tmp.append(df_header.merge(df_phot,on='SNID'))\n",
    "        \n",
    "    df[dtype] = pd.concat(df_head_tmp)\n",
    "    df_w_photo[dtype] = pd.concat(df_head_w_phot_tmp)"
   ]
  },
  {
   "cell_type": "code",
   "execution_count": null,
   "metadata": {},
   "outputs": [],
   "source": [
    "# now lets plot some of these random lcs\n",
    "df_sel_w_photo = df_w_photo[\"real\"][df_w_photo[\"real\"].SNID.isin(ids_lost_spec_Ia)]\n",
    "# this will save the plots as well\n",
    "vu.plot_random_lcs(df_sel_w_photo, f'../dumps/real/clump/lightcurves/{model_name}/spec_Ia_classified_as_nonIa_yearly_stack/', multiplots=False, nb_lcs=10, plot_peak=False)"
   ]
  }
 ],
 "metadata": {
  "kernelspec": {
   "display_name": "Python 3",
   "language": "python",
   "name": "python3"
  },
  "language_info": {
   "codemirror_mode": {
    "name": "ipython",
    "version": 3
   },
   "file_extension": ".py",
   "mimetype": "text/x-python",
   "name": "python",
   "nbconvert_exporter": "python",
   "pygments_lexer": "ipython3",
   "version": "3.6.8"
  }
 },
 "nbformat": 4,
 "nbformat_minor": 2
}
