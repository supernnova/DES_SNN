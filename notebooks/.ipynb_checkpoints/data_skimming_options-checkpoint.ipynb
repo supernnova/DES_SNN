{
 "cells": [
  {
   "cell_type": "code",
   "execution_count": 1,
   "metadata": {},
   "outputs": [],
   "source": [
    "import sys\n",
    "import glob,os\n",
    "import numpy as np\n",
    "import pandas as pd\n",
    "from matplotlib import pyplot as plt\n",
    "sys.path.append(\"../\")\n",
    "import utils.data_utils as du\n",
    "import utils.visualization_utils as vu"
   ]
  },
  {
   "cell_type": "markdown",
   "metadata": {},
   "source": [
    "Goal: parameters to skim light-curves\n",
    "1. time: get a light-curve with time span similar to training sample\n",
    "2. S/N: maglims are not computed here, although we trained with them, maybe real data has larger S/N than sims\n",
    "3. multiseason transients: although BRNNs should deal with this, eliminating crappy lcs should be good for overall efficiency."
   ]
  },
  {
   "cell_type": "code",
   "execution_count": 2,
   "metadata": {},
   "outputs": [],
   "source": [
    "# Init paths\n",
    "path_raw = os.environ.get(\"DES_DATA\")\n",
    "path_dump = './dump/data_skimming/'"
   ]
  },
  {
   "cell_type": "code",
   "execution_count": 3,
   "metadata": {},
   "outputs": [],
   "source": [
    "# config\n",
    "# debug \n",
    "debug = False"
   ]
  },
  {
   "cell_type": "code",
   "execution_count": 4,
   "metadata": {},
   "outputs": [
    {
     "name": "stdout",
     "output_type": "stream",
     "text": [
      "\u001b[32m[Loading preprocessed data ./dump/real/DESY4_forcePhoto_real_snana_fits_PHOT.pickle] \u001b[0m\n",
      "\u001b[32m[Loading preprocessed data ./dump/real/DESY2_forcePhoto_real_snana_fits_PHOT.pickle] \u001b[0m\n",
      "\u001b[32m[Loading preprocessed data ./dump/real/DESY1_forcePhoto_real_snana_fits_PHOT.pickle] \u001b[0m\n",
      "\u001b[32m[Loading preprocessed data ./dump/real/DESY3_forcePhoto_real_snana_fits_PHOT.pickle] \u001b[0m\n",
      "\u001b[32m[Loading preprocessed data ./dump/real/DESY5_forcePhoto_real_snana_fits_PHOT.pickle] \u001b[0m\n"
     ]
    },
    {
     "name": "stderr",
     "output_type": "stream",
     "text": [
      "../utils/data_utils.py:47: FutureWarning: Sorting because non-concatenation axis is not aligned. A future version\n",
      "of pandas will change to not sort by default.\n",
      "\n",
      "To accept the future behavior, pass 'sort=False'.\n",
      "\n",
      "To retain the current behavior and silence the warning, pass 'sort=True'.\n",
      "\n",
      "  df = pd.concat([df_tmp[i] for i in range(len(df_tmp))])\n"
     ]
    },
    {
     "name": "stdout",
     "output_type": "stream",
     "text": [
      "\u001b[32m[Loading preprocessed data ./dump/fake/DESY3_forcePhoto_fake_snana_fits_PHOT.pickle] \u001b[0m\n",
      "\u001b[32m[Loading preprocessed data ./dump/fake/DESY5_forcePhoto_fake_snana_fits_PHOT.pickle] \u001b[0m\n",
      "\u001b[32m[Loading preprocessed data ./dump/fake/DESY4_forcePhoto_fake_snana_fits_PHOT.pickle] \u001b[0m\n",
      "\u001b[32m[Loading preprocessed data ./dump/fake/DESY2_forcePhoto_fake_snana_fits_PHOT.pickle] \u001b[0m\n",
      "\u001b[32m[Loading preprocessed data ./dump/fake/DESY1_forcePhoto_fake_snana_fits_PHOT.pickle] \u001b[0m\n"
     ]
    }
   ],
   "source": [
    "# load data\n",
    "# do run: process_Data_for_notebooks.py first! the notebook crashes with such large data to process\n",
    "df_real = du.load_data(f\"{path_raw}DESALL_forcePhoto_real_snana_fits/\",\"./dump/real/\",redo_photometry = False)\n",
    "df_fake = du.load_data(f\"{path_raw}/DESALL_forcePhoto_fake_snana_fits/\",\"./dump/fake/\",redo_photometry = False)"
   ]
  },
  {
   "cell_type": "code",
   "execution_count": 5,
   "metadata": {},
   "outputs": [],
   "source": [
    "# BEWARE! SNID for fakes is actually NOT the real SNID\n",
    "df_fake['SNID']= df_fake['PRIVATE(DES_snid)']"
   ]
  },
  {
   "cell_type": "markdown",
   "metadata": {},
   "source": [
    "# Data exploration"
   ]
  },
  {
   "cell_type": "code",
   "execution_count": 6,
   "metadata": {},
   "outputs": [
    {
     "name": "stdout",
     "output_type": "stream",
     "text": [
      "0.0     17955163\n",
      "16.0     2422853\n",
      "4.0      2047097\n",
      "8.0      2031903\n",
      "Name: PRIVATE(DES_transient_status), dtype: int64\n"
     ]
    },
    {
     "data": {
      "image/png": "[encoded data removed]",
      "text/plain": [
       "<Figure size 432x288 with 5 Axes>"
      ]
     },
     "metadata": {},
     "output_type": "display_data"
    }
   ],
   "source": [
    "# Variable inspection\n",
    "# general dist\n",
    "list_var = ['PRIVATE(DES_transient_status)','PRIVATE(DES_fake_z)','REDSHIFT_HELIO','SNTYPE','PRIVATE(DES_numepochs_ml)']\n",
    "fig = plt.figure()\n",
    "for i,var in enumerate(list_var):\n",
    "    ax=plt.subplot(3,3,i+1)\n",
    "    ax.hist(df_fake[var])\n",
    "    ax.set_yscale(\"log\")\n",
    "    ax.set_xlabel(var)\n",
    "fig.tight_layout()\n",
    "fig.subplots_adjust(top=0.88)\n",
    "# all Ias and no transient status\n",
    "# print(df_fake['PRIVATE(DES_transient_status)'].unique(),df_fake['SNTYPE'].unique())\n",
    "print(df_fake['PRIVATE(DES_transient_status)'].value_counts())\n",
    "# print(df_fake['PRIVATE(DES_numepochs_ml)'].value_counts())"
   ]
  },
  {
   "cell_type": "markdown",
   "metadata": {},
   "source": [
    "So basically this means that transient_status:\n",
    "- (False) if it was properly run on fakes then it is not a good indicator of the good light-curves\n",
    "- (True) if it wasnt properly run, either rerun it or not use it in fakes, only in data \n",
    "- I could see if I construct my own transient status with numepochs. To be done next week (~April 20th) with Mat Smith"
   ]
  },
  {
   "cell_type": "code",
   "execution_count": 7,
   "metadata": {},
   "outputs": [
    {
     "data": {
      "image/png": "[encoded data removed]",
      "text/plain": [
       "<Figure size 432x288 with 5 Axes>"
      ]
     },
     "metadata": {},
     "output_type": "display_data"
    }
   ],
   "source": [
    "# ML Real Bogus\n",
    "list_var_ML = ['PRIVATE(DES_numepochs_ml_Y1)','PRIVATE(DES_numepochs_ml_Y2)','PRIVATE(DES_numepochs_ml_Y3)','PRIVATE(DES_numepochs_ml_Y4)','PRIVATE(DES_numepochs_ml_Y5)']\n",
    "fig = plt.figure()\n",
    "for i,var in enumerate(list_var_ML):\n",
    "    ax=plt.subplot(3,3,i+1)\n",
    "    ax.hist(df_fake[var])\n",
    "    ax.set_yscale(\"log\")\n",
    "    ax.set_xlabel(var)\n",
    "#     print(var,df_fake[var].value_counts())\n",
    "fig.tight_layout()\n",
    "fig.subplots_adjust(top=0.88)"
   ]
  },
  {
   "cell_type": "code",
   "execution_count": 8,
   "metadata": {},
   "outputs": [],
   "source": [
    "#tmp = df_fake[df_fake['PRIVATE(DES_transient_status)']<1.]"
   ]
  },
  {
   "cell_type": "code",
   "execution_count": 9,
   "metadata": {},
   "outputs": [],
   "source": [
    "# #plot some examples\n",
    "# import random\n",
    "# list_SNIDs = [tmp['SNID'].unique()[i] for i in sorted(random.sample(range(len(tmp['SNID'].unique())), 9))]\n",
    "# fig = plt.figure()\n",
    "# for i, sid in enumerate(list_SNIDs):\n",
    "#     ax = plt.subplot(3,3,i+1)\n",
    "#     vu.plot_single_lc(tmp,sid,ax)\n",
    "#     sel = tmp[tmp['SNID']==sid]\n",
    "#     ax.set_xlim(sel['PRIVATE(DES_mjd_trigger)'].iloc[0]-30,sel['PRIVATE(DES_mjd_trigger)'].iloc[0]+100)\n",
    "#     fig.tight_layout()\n",
    "#     fig.subplots_adjust(top=0.88)\n",
    "#     print(sid)"
   ]
  },
  {
   "cell_type": "markdown",
   "metadata": {},
   "source": [
    "# Time window"
   ]
  },
  {
   "cell_type": "markdown",
   "metadata": {},
   "source": [
    "This is an exploration, if applying cuts need to do a hack for maintaining photometry separators (see peak exploration notebook for more info)."
   ]
  },
  {
   "cell_type": "code",
   "execution_count": 10,
   "metadata": {},
   "outputs": [],
   "source": [
    "dummy = df_fake[df_fake[\"SNID\"]==df_fake[\"SNID\"].unique()[0]]"
   ]
  },
  {
   "cell_type": "code",
   "execution_count": 11,
   "metadata": {},
   "outputs": [],
   "source": [
    "def compute_delta_time(df):\n",
    "    \"\"\"Compute the delta time between two consecutive observations\n",
    "\n",
    "    Args:\n",
    "        df (pandas.DataFrame): dataframe holding lightcurve data\n",
    "\n",
    "    Returns:\n",
    "        (pandas.DataFrame) dataframe holding lightcurve data with delta_time features\n",
    "    \"\"\"\n",
    "\n",
    "    df[\"delta_time\"] = df[\"MJD\"].diff()\n",
    "    # Fill the first row with 0 to replace NaN\n",
    "    df.delta_time = df.delta_time.fillna(0)\n",
    "    try:\n",
    "        IDs = df.SNID.values\n",
    "    # Deal with the case where lightcrv_ID is the index\n",
    "    except AttributeError:\n",
    "        assert df.index.name == \"SNID\"\n",
    "        IDs = df.index.values\n",
    "    # Find idxs of rows where a new light curve start then zero delta_time\n",
    "    idxs = np.where(IDs[:-1] != IDs[1:])[0] + 1\n",
    "    arr_delta_time = df.delta_time.values\n",
    "    arr_delta_time[idxs] = 0\n",
    "    df[\"delta_time\"] = arr_delta_time\n",
    "\n",
    "    return df"
   ]
  },
  {
   "cell_type": "code",
   "execution_count": 12,
   "metadata": {},
   "outputs": [],
   "source": [
    "dummy = compute_delta_time(dummy.copy())"
   ]
  },
  {
   "cell_type": "code",
   "execution_count": 13,
   "metadata": {},
   "outputs": [
    {
     "data": {
      "text/html": [
       "<div>\n",
       "<style scoped>\n",
       "    .dataframe tbody tr th:only-of-type {\n",
       "        vertical-align: middle;\n",
       "    }\n",
       "\n",
       "    .dataframe tbody tr th {\n",
       "        vertical-align: top;\n",
       "    }\n",
       "\n",
       "    .dataframe thead th {\n",
       "        text-align: right;\n",
       "    }\n",
       "</style>\n",
       "<table border=\"1\" class=\"dataframe\">\n",
       "  <thead>\n",
       "    <tr style=\"text-align: right;\">\n",
       "      <th></th>\n",
       "      <th>SNID</th>\n",
       "      <th>MJD</th>\n",
       "      <th>FLT</th>\n",
       "      <th>FIELD</th>\n",
       "      <th>PHOTFLAG</th>\n",
       "      <th>PHOTPROB</th>\n",
       "      <th>FLUXCAL</th>\n",
       "      <th>FLUXCALERR</th>\n",
       "      <th>PSF_SIG1</th>\n",
       "      <th>PSF_SIG2</th>\n",
       "      <th>...</th>\n",
       "      <th>HOSTGAL2_LOGMASS_ERR</th>\n",
       "      <th>HOSTGAL_MAGERR_i</th>\n",
       "      <th>HOSTGAL_CONFUSION</th>\n",
       "      <th>MWEBV_ERR</th>\n",
       "      <th>HOSTGAL_MAGERR_z</th>\n",
       "      <th>PRIVATE(DES_fake_hostsep)</th>\n",
       "      <th>PTROBS_MIN</th>\n",
       "      <th>PRIVATE(DES_numepochs_ml_Y6)</th>\n",
       "      <th>HOSTGAL2_OBJID</th>\n",
       "      <th>delta_time</th>\n",
       "    </tr>\n",
       "  </thead>\n",
       "  <tbody>\n",
       "    <tr>\n",
       "      <th>112</th>\n",
       "      <td>1347948.0</td>\n",
       "      <td>56890.386</td>\n",
       "      <td>g</td>\n",
       "      <td>b'S1          '</td>\n",
       "      <td>1025</td>\n",
       "      <td>-9.0</td>\n",
       "      <td>1.199100</td>\n",
       "      <td>7.4041</td>\n",
       "      <td>4.072</td>\n",
       "      <td>0.0</td>\n",
       "      <td>...</td>\n",
       "      <td>-9.0</td>\n",
       "      <td>0.0</td>\n",
       "      <td>-9.0</td>\n",
       "      <td>0.0</td>\n",
       "      <td>0.0</td>\n",
       "      <td>0.342</td>\n",
       "      <td>1</td>\n",
       "      <td>0.0</td>\n",
       "      <td>-9</td>\n",
       "      <td>193.342</td>\n",
       "    </tr>\n",
       "    <tr>\n",
       "      <th>210</th>\n",
       "      <td>1347948.0</td>\n",
       "      <td>57249.388</td>\n",
       "      <td>g</td>\n",
       "      <td>b'S1          '</td>\n",
       "      <td>1</td>\n",
       "      <td>-9.0</td>\n",
       "      <td>6.036300</td>\n",
       "      <td>5.0364</td>\n",
       "      <td>2.644</td>\n",
       "      <td>0.0</td>\n",
       "      <td>...</td>\n",
       "      <td>-9.0</td>\n",
       "      <td>0.0</td>\n",
       "      <td>-9.0</td>\n",
       "      <td>0.0</td>\n",
       "      <td>0.0</td>\n",
       "      <td>0.342</td>\n",
       "      <td>1</td>\n",
       "      <td>0.0</td>\n",
       "      <td>-9</td>\n",
       "      <td>197.288</td>\n",
       "    </tr>\n",
       "    <tr>\n",
       "      <th>313</th>\n",
       "      <td>1347948.0</td>\n",
       "      <td>57615.336</td>\n",
       "      <td>g</td>\n",
       "      <td>b'S1          '</td>\n",
       "      <td>1</td>\n",
       "      <td>-9.0</td>\n",
       "      <td>-16.070999</td>\n",
       "      <td>12.2440</td>\n",
       "      <td>2.562</td>\n",
       "      <td>0.0</td>\n",
       "      <td>...</td>\n",
       "      <td>-9.0</td>\n",
       "      <td>0.0</td>\n",
       "      <td>-9.0</td>\n",
       "      <td>0.0</td>\n",
       "      <td>0.0</td>\n",
       "      <td>0.342</td>\n",
       "      <td>1</td>\n",
       "      <td>0.0</td>\n",
       "      <td>-9</td>\n",
       "      <td>207.278</td>\n",
       "    </tr>\n",
       "    <tr>\n",
       "      <th>435</th>\n",
       "      <td>1347948.0</td>\n",
       "      <td>57986.321</td>\n",
       "      <td>g</td>\n",
       "      <td>b'S1          '</td>\n",
       "      <td>1</td>\n",
       "      <td>-9.0</td>\n",
       "      <td>1.115300</td>\n",
       "      <td>4.8073</td>\n",
       "      <td>2.968</td>\n",
       "      <td>0.0</td>\n",
       "      <td>...</td>\n",
       "      <td>-9.0</td>\n",
       "      <td>0.0</td>\n",
       "      <td>-9.0</td>\n",
       "      <td>0.0</td>\n",
       "      <td>0.0</td>\n",
       "      <td>0.342</td>\n",
       "      <td>1</td>\n",
       "      <td>0.0</td>\n",
       "      <td>-9</td>\n",
       "      <td>204.244</td>\n",
       "    </tr>\n",
       "  </tbody>\n",
       "</table>\n",
       "<p>4 rows × 128 columns</p>\n",
       "</div>"
      ],
      "text/plain": [
       "          SNID        MJD FLT            FIELD  PHOTFLAG  PHOTPROB    FLUXCAL  \\\n",
       "112  1347948.0  56890.386   g  b'S1          '      1025      -9.0   1.199100   \n",
       "210  1347948.0  57249.388   g  b'S1          '         1      -9.0   6.036300   \n",
       "313  1347948.0  57615.336   g  b'S1          '         1      -9.0 -16.070999   \n",
       "435  1347948.0  57986.321   g  b'S1          '         1      -9.0   1.115300   \n",
       "\n",
       "     FLUXCALERR  PSF_SIG1  PSF_SIG2     ...      HOSTGAL2_LOGMASS_ERR  \\\n",
       "112      7.4041     4.072       0.0     ...                      -9.0   \n",
       "210      5.0364     2.644       0.0     ...                      -9.0   \n",
       "313     12.2440     2.562       0.0     ...                      -9.0   \n",
       "435      4.8073     2.968       0.0     ...                      -9.0   \n",
       "\n",
       "     HOSTGAL_MAGERR_i  HOSTGAL_CONFUSION  MWEBV_ERR  HOSTGAL_MAGERR_z  \\\n",
       "112               0.0               -9.0        0.0               0.0   \n",
       "210               0.0               -9.0        0.0               0.0   \n",
       "313               0.0               -9.0        0.0               0.0   \n",
       "435               0.0               -9.0        0.0               0.0   \n",
       "\n",
       "     PRIVATE(DES_fake_hostsep)  PTROBS_MIN  PRIVATE(DES_numepochs_ml_Y6)  \\\n",
       "112                      0.342           1                           0.0   \n",
       "210                      0.342           1                           0.0   \n",
       "313                      0.342           1                           0.0   \n",
       "435                      0.342           1                           0.0   \n",
       "\n",
       "     HOSTGAL2_OBJID  delta_time  \n",
       "112              -9     193.342  \n",
       "210              -9     197.288  \n",
       "313              -9     207.278  \n",
       "435              -9     204.244  \n",
       "\n",
       "[4 rows x 128 columns]"
      ]
     },
     "execution_count": 13,
     "metadata": {},
     "output_type": "execute_result"
    }
   ],
   "source": [
    "dummy[dummy['delta_time']>100]"
   ]
  },
  {
   "cell_type": "code",
   "execution_count": 14,
   "metadata": {},
   "outputs": [
    {
     "data": {
      "text/plain": [
       "<matplotlib.axes._subplots.AxesSubplot at 0x8645b3358>"
      ]
     },
     "execution_count": 14,
     "metadata": {},
     "output_type": "execute_result"
    },
    {
     "data": {
      "image/png": "[encoded data removed]",
      "text/plain": [
       "<Figure size 432x288 with 1 Axes>"
      ]
     },
     "metadata": {},
     "output_type": "display_data"
    }
   ],
   "source": [
    "ax = plt.subplot()\n",
    "vu.plot_single_lc(dummy,1347948,ax)"
   ]
  },
  {
   "cell_type": "code",
   "execution_count": 27,
   "metadata": {},
   "outputs": [
    {
     "data": {
      "text/plain": [
       "[0, 112, 210, 313, 435, 539]"
      ]
     },
     "execution_count": 27,
     "metadata": {},
     "output_type": "execute_result"
    }
   ],
   "source": [
    "subseason = [0] + dummy.index[dummy['delta_time'] >100].tolist() + [len(dummy)]\n",
    "subseason"
   ]
  },
  {
   "cell_type": "code",
   "execution_count": 16,
   "metadata": {},
   "outputs": [],
   "source": [
    "dic_dummy = {}\n",
    "for i,end in enumerate(subseason):\n",
    "    if i==0:\n",
    "        dic_dummy[i] = dummy[:end-1]\n",
    "    else:\n",
    "        dic_dummy[i] = dummy[subseason_break_end[i-1]:end]"
   ]
  },
  {
   "cell_type": "code",
   "execution_count": 18,
   "metadata": {},
   "outputs": [
    {
     "data": {
      "image/png": "[encoded data removed]",
      "text/plain": [
       "<Figure size 432x288 with 4 Axes>"
      ]
     },
     "metadata": {},
     "output_type": "display_data"
    }
   ],
   "source": [
    "fig = plt.figure()\n",
    "for i in range(len(subseason_break_end)):\n",
    "    ax = plt.subplot(2,3,i+1)\n",
    "    vu.plot_single_lc(dic_dummy[i],dic_dummy[i][\"SNID\"].unique()[0],ax,plot_peak=False)\n",
    "fig.tight_layout()\n",
    "fig.subplots_adjust(top=0.88)"
   ]
  },
  {
   "cell_type": "markdown",
   "metadata": {},
   "source": [
    "LCs look good but, would supernnova be able to handle lcs that start maybe 100 days after the \"subseason\" starts?\n",
    "Also, how should I identify these lcs? SNID is an int, maybe convert it to float?"
   ]
  },
  {
   "cell_type": "code",
   "execution_count": null,
   "metadata": {},
   "outputs": [],
   "source": []
  },
  {
   "cell_type": "code",
   "execution_count": null,
   "metadata": {},
   "outputs": [],
   "source": []
  },
  {
   "cell_type": "code",
   "execution_count": null,
   "metadata": {},
   "outputs": [],
   "source": []
  },
  {
   "cell_type": "code",
   "execution_count": null,
   "metadata": {},
   "outputs": [],
   "source": []
  }
 ],
 "metadata": {
  "kernelspec": {
   "display_name": "Python 3",
   "language": "python",
   "name": "python3"
  },
  "language_info": {
   "codemirror_mode": {
    "name": "ipython",
    "version": 3
   },
   "file_extension": ".py",
   "mimetype": "text/x-python",
   "name": "python",
   "nbconvert_exporter": "python",
   "pygments_lexer": "ipython3",
   "version": "3.6.8"
  }
 },
 "nbformat": 4,
 "nbformat_minor": 2
}
